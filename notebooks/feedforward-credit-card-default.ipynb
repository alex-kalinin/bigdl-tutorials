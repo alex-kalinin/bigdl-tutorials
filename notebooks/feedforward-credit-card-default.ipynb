{
 "cells": [
  {
   "cell_type": "markdown",
   "metadata": {},
   "source": [
    "# Feedforward Network with Credit Card Default\n",
    "\n",
    "Let us look at a BigDL example with Credit Card Default.  We will train a simple, feedforward neural network with "
   ]
  },
  {
   "cell_type": "code",
   "execution_count": null,
   "metadata": {},
   "outputs": [],
   "source": []
  },
  {
   "cell_type": "code",
   "execution_count": 178,
   "metadata": {},
   "outputs": [],
   "source": [
    "%matplotlib inline\n",
    "import pandas as pd\n",
    "import datetime as dt\n",
    "import matplotlib.pyplot as plt\n",
    "import numpy as np\n",
    "from sklearn.metrics import confusion_matrix\n",
    "from sklearn.metrics import accuracy_score\n",
    "import seaborn as sn\n",
    "import pandas as pd\n",
    "import random as rd\n",
    "import datetime as dt\n",
    "\n",
    "\n",
    "from bigdl.dataset.transformer import *\n",
    "from bigdl.dataset.base import *\n",
    "from bigdl.nn.layer import *\n",
    "from bigdl.nn.criterion import *\n",
    "from bigdl.optim.optimizer import *\n",
    "from bigdl.util.common import *\n",
    "from utils import *\n",
    "\n",
    "from pyspark.sql.functions import col\n",
    "\n",
    "\n",
    "init_engine()"
   ]
  },
  {
   "cell_type": "code",
   "execution_count": 179,
   "metadata": {},
   "outputs": [],
   "source": [
    "learning_rate = 0.01\n",
    "training_epochs = 60\n",
    "batch_size = 1024\n",
    "display_step = 1\n",
    "\n",
    "# Network Parameters\n",
    "n_input = 5\n",
    "n_classes = 2\n",
    "n_hidden_1 = 3 # 1st layer number of features\n",
    "n_hidden_2 = 2 # 1st layer number of features\n",
    "\n",
    "\n",
    "\n",
    "filename =  \"../data/cc-default/default-simple.csv\"\n",
    "\n",
    "LABELS = [\"Good\", \"Default\"] "
   ]
  },
  {
   "cell_type": "code",
   "execution_count": 180,
   "metadata": {},
   "outputs": [
    {
     "name": "stdout",
     "output_type": "stream",
     "text": [
      "Hidden layer 1 (Guess) : 2.59002006411\n",
      "Hidden layer 2 (Guess) : 2.2360679775\n"
     ]
    }
   ],
   "source": [
    "# Number of hidden layers\n",
    "\n",
    "n_hidden_guess = np.sqrt(np.sqrt((n_classes + 2) * n_input) + 2 * np.sqrt(n_input /(n_classes+2.)))\n",
    "print(\"Hidden layer 1 (Guess) : \" + str(n_hidden_guess))\n",
    "\n",
    "n_hidden_guess_2 = n_classes * np.sqrt(n_input / (n_classes + 2.))\n",
    "print(\"Hidden layer 2 (Guess) : \" + str(n_hidden_guess_2))"
   ]
  },
  {
   "cell_type": "code",
   "execution_count": 181,
   "metadata": {},
   "outputs": [],
   "source": [
    "cc_training = spark.read.csv(filename, header=True, inferSchema=\"true\", mode=\"DROPMALFORMED\")"
   ]
  },
  {
   "cell_type": "code",
   "execution_count": 182,
   "metadata": {},
   "outputs": [],
   "source": [
    "df = pd.read_csv(filename)"
   ]
  },
  {
   "cell_type": "code",
   "execution_count": 183,
   "metadata": {},
   "outputs": [
    {
     "name": "stdout",
     "output_type": "stream",
     "text": [
      "+---+-------+---+---------+--------+---+-------+\n",
      "| id|balance|sex|education|marriage|age|default|\n",
      "+---+-------+---+---------+--------+---+-------+\n",
      "|  1|  20000|  2|        2|       1| 24|      2|\n",
      "|  2| 120000|  2|        2|       2| 26|      2|\n",
      "|  3|  90000|  2|        2|       2| 34|      1|\n",
      "|  4|  50000|  2|        2|       1| 37|      1|\n",
      "|  5|  50000|  1|        2|       1| 57|      1|\n",
      "|  6|  50000|  1|        1|       2| 37|      1|\n",
      "|  7| 500000|  1|        1|       2| 29|      1|\n",
      "|  8| 100000|  2|        2|       2| 23|      1|\n",
      "|  9| 140000|  2|        3|       1| 28|      1|\n",
      "| 10|  20000|  1|        3|       2| 35|      1|\n",
      "| 11| 200000|  2|        3|       2| 34|      1|\n",
      "| 12| 260000|  2|        1|       2| 51|      1|\n",
      "| 13| 630000|  2|        2|       2| 41|      1|\n",
      "| 14|  70000|  1|        2|       2| 30|      2|\n",
      "| 15| 250000|  1|        1|       2| 29|      1|\n",
      "| 16|  50000|  2|        3|       3| 23|      1|\n",
      "| 17|  20000|  1|        1|       2| 24|      2|\n",
      "| 18| 320000|  1|        1|       1| 49|      1|\n",
      "| 19| 360000|  2|        1|       1| 49|      1|\n",
      "| 20| 180000|  2|        1|       2| 29|      1|\n",
      "+---+-------+---+---------+--------+---+-------+\n",
      "only showing top 20 rows\n",
      "\n"
     ]
    }
   ],
   "source": [
    "cc_training.show()"
   ]
  },
  {
   "cell_type": "code",
   "execution_count": 184,
   "metadata": {
    "scrolled": false
   },
   "outputs": [
    {
     "name": "stdout",
     "output_type": "stream",
     "text": [
      "+-------+------------------+------------------+------------------+------------------+-----------------+------------------+\n",
      "|summary|           balance|               sex|         education|          marriage|              age|           default|\n",
      "+-------+------------------+------------------+------------------+------------------+-----------------+------------------+\n",
      "|  count|             30000|             30000|             30000|             30000|            30000|             30000|\n",
      "|   mean|167484.32266666667|1.6037333333333332|1.8531333333333333|1.5518666666666667|          35.4855|            1.2212|\n",
      "| stddev|129747.66156720246|0.4891291960902602|0.7903486597207269|0.5219696006132467|9.217904068090155|0.4150618056909329|\n",
      "|    min|             10000|                 1|                 0|                 0|               21|                 1|\n",
      "|    max|           1000000|                 2|                 6|                 3|               79|                 2|\n",
      "+-------+------------------+------------------+------------------+------------------+-----------------+------------------+\n",
      "\n"
     ]
    }
   ],
   "source": [
    "cc_training.select('balance','sex','education','marriage','age','default').describe().show()"
   ]
  },
  {
   "cell_type": "code",
   "execution_count": 185,
   "metadata": {},
   "outputs": [],
   "source": [
    "cc_training = cc_training.select([col(c).cast(\"double\") for c in cc_training.columns])\n",
    "\n"
   ]
  },
  {
   "cell_type": "code",
   "execution_count": 186,
   "metadata": {},
   "outputs": [
    {
     "name": "stdout",
     "output_type": "stream",
     "text": [
      "+----+--------+---+---------+--------+----+-------+\n",
      "|  id| balance|sex|education|marriage| age|default|\n",
      "+----+--------+---+---------+--------+----+-------+\n",
      "| 1.0| 20000.0|2.0|      2.0|     1.0|24.0|    2.0|\n",
      "| 2.0|120000.0|2.0|      2.0|     2.0|26.0|    2.0|\n",
      "| 3.0| 90000.0|2.0|      2.0|     2.0|34.0|    1.0|\n",
      "| 4.0| 50000.0|2.0|      2.0|     1.0|37.0|    1.0|\n",
      "| 5.0| 50000.0|1.0|      2.0|     1.0|57.0|    1.0|\n",
      "| 6.0| 50000.0|1.0|      1.0|     2.0|37.0|    1.0|\n",
      "| 7.0|500000.0|1.0|      1.0|     2.0|29.0|    1.0|\n",
      "| 8.0|100000.0|2.0|      2.0|     2.0|23.0|    1.0|\n",
      "| 9.0|140000.0|2.0|      3.0|     1.0|28.0|    1.0|\n",
      "|10.0| 20000.0|1.0|      3.0|     2.0|35.0|    1.0|\n",
      "|11.0|200000.0|2.0|      3.0|     2.0|34.0|    1.0|\n",
      "|12.0|260000.0|2.0|      1.0|     2.0|51.0|    1.0|\n",
      "|13.0|630000.0|2.0|      2.0|     2.0|41.0|    1.0|\n",
      "|14.0| 70000.0|1.0|      2.0|     2.0|30.0|    2.0|\n",
      "|15.0|250000.0|1.0|      1.0|     2.0|29.0|    1.0|\n",
      "|16.0| 50000.0|2.0|      3.0|     3.0|23.0|    1.0|\n",
      "|17.0| 20000.0|1.0|      1.0|     2.0|24.0|    2.0|\n",
      "|18.0|320000.0|1.0|      1.0|     1.0|49.0|    1.0|\n",
      "|19.0|360000.0|2.0|      1.0|     1.0|49.0|    1.0|\n",
      "|20.0|180000.0|2.0|      1.0|     2.0|29.0|    1.0|\n",
      "+----+--------+---+---------+--------+----+-------+\n",
      "only showing top 20 rows\n",
      "\n"
     ]
    }
   ],
   "source": [
    "cc_training.show()"
   ]
  },
  {
   "cell_type": "code",
   "execution_count": 187,
   "metadata": {},
   "outputs": [
    {
     "data": {
      "image/png": "[encoded data removed]",
      "text/plain": [
       "<matplotlib.figure.Figure at 0x7eff44ae9290>"
      ]
     },
     "metadata": {},
     "output_type": "display_data"
    }
   ],
   "source": [
    "#count_classes = pd.value_counts(df['Class'], sort = True)\n",
    "count_classes = pd.value_counts(cc_training.select('default').toPandas()['default'], sort = True)\n",
    "count_classes.plot(kind = 'bar', rot=0)\n",
    "plt.title(\"Transaction class distribution\")\n",
    "plt.xticks(range(2), LABELS)\n",
    "plt.xlabel(\"Status\")\n",
    "plt.ylabel(\"Frequency\");"
   ]
  },
  {
   "cell_type": "code",
   "execution_count": 188,
   "metadata": {},
   "outputs": [],
   "source": [
    "(trainingData, validData) = cc_training.select('balance','sex','education','marriage','age','default').randomSplit([.7,.3])"
   ]
  },
  {
   "cell_type": "code",
   "execution_count": 189,
   "metadata": {
    "scrolled": true
   },
   "outputs": [
    {
     "name": "stdout",
     "output_type": "stream",
     "text": [
      "+--------+-----+\n",
      "| balance|count|\n",
      "+--------+-----+\n",
      "| 50000.0| 2360|\n",
      "| 20000.0| 1392|\n",
      "| 30000.0| 1142|\n",
      "| 80000.0| 1106|\n",
      "|200000.0| 1034|\n",
      "|150000.0|  781|\n",
      "|100000.0|  738|\n",
      "|180000.0|  688|\n",
      "|360000.0|  611|\n",
      "| 60000.0|  570|\n",
      "|140000.0|  543|\n",
      "|210000.0|  525|\n",
      "| 70000.0|  513|\n",
      "|130000.0|  510|\n",
      "|230000.0|  508|\n",
      "|500000.0|  498|\n",
      "|120000.0|  485|\n",
      "|160000.0|  477|\n",
      "| 90000.0|  473|\n",
      "|240000.0|  460|\n",
      "|110000.0|  412|\n",
      "|300000.0|  393|\n",
      "|260000.0|  375|\n",
      "|280000.0|  353|\n",
      "|170000.0|  352|\n",
      "| 10000.0|  351|\n",
      "|220000.0|  310|\n",
      "|250000.0|  240|\n",
      "|290000.0|  238|\n",
      "|320000.0|  213|\n",
      "|310000.0|  193|\n",
      "|400000.0|  181|\n",
      "| 40000.0|  169|\n",
      "|270000.0|  162|\n",
      "|190000.0|  161|\n",
      "|350000.0|  155|\n",
      "|340000.0|  154|\n",
      "|330000.0|  129|\n",
      "|390000.0|  121|\n",
      "|450000.0|  114|\n",
      "+--------+-----+\n",
      "only showing top 40 rows\n",
      "\n"
     ]
    }
   ],
   "source": [
    "trainingData.groupBy('balance').count().sort('count', ascending=False ).show(40)"
   ]
  },
  {
   "cell_type": "code",
   "execution_count": 190,
   "metadata": {},
   "outputs": [
    {
     "data": {
      "text/plain": [
       "9038"
      ]
     },
     "execution_count": 190,
     "metadata": {},
     "output_type": "execute_result"
    }
   ],
   "source": [
    "#convert ndarray data into RDD[Sample]\n",
    "\n",
    "# balance,sex,education,marriage,age,default\n",
    "\n",
    "def array2rdd(ds):\n",
    "    #build Sample from ndarrays\n",
    "    def build_sample(balance,sex,education,marriage,age,default):\n",
    "        feature = np.array([balance,sex,education,marriage,age]).flatten()\n",
    "        label = np.array(default)\n",
    "        return Sample.from_ndarray(feature, label)\n",
    "    rdd = ds.map(lambda (balance,sex,education,marriage,age,default): build_sample(balance,sex,education,marriage,age,default))\n",
    "    return rdd\n",
    "\n",
    "cc_rdd_train = array2rdd(trainingData.rdd.map(list))\n",
    "cc_rdd_train.cache()\n",
    "cc_rdd_train.count()\n",
    "\n",
    "\n",
    "\n",
    "cc_rdd_test = array2rdd(validData.rdd.map(list))\n",
    "cc_rdd_test.cache()\n",
    "cc_rdd_test.count()\n"
   ]
  },
  {
   "cell_type": "code",
   "execution_count": 191,
   "metadata": {},
   "outputs": [
    {
     "data": {
      "text/plain": [
       "[Row(balance=10000.0, sex=1.0, education=1.0, marriage=1.0, age=38.0, default=2.0),\n",
       " Row(balance=10000.0, sex=1.0, education=1.0, marriage=1.0, age=41.0, default=1.0),\n",
       " Row(balance=10000.0, sex=1.0, education=1.0, marriage=1.0, age=42.0, default=1.0),\n",
       " Row(balance=10000.0, sex=1.0, education=1.0, marriage=1.0, age=50.0, default=1.0),\n",
       " Row(balance=10000.0, sex=1.0, education=1.0, marriage=2.0, age=23.0, default=1.0),\n",
       " Row(balance=10000.0, sex=1.0, education=1.0, marriage=2.0, age=23.0, default=2.0),\n",
       " Row(balance=10000.0, sex=1.0, education=1.0, marriage=2.0, age=23.0, default=2.0),\n",
       " Row(balance=10000.0, sex=1.0, education=1.0, marriage=2.0, age=24.0, default=2.0),\n",
       " Row(balance=10000.0, sex=1.0, education=1.0, marriage=2.0, age=25.0, default=1.0),\n",
       " Row(balance=10000.0, sex=1.0, education=1.0, marriage=2.0, age=25.0, default=1.0),\n",
       " Row(balance=10000.0, sex=1.0, education=1.0, marriage=2.0, age=26.0, default=1.0),\n",
       " Row(balance=10000.0, sex=1.0, education=1.0, marriage=2.0, age=29.0, default=1.0),\n",
       " Row(balance=10000.0, sex=1.0, education=2.0, marriage=1.0, age=26.0, default=2.0),\n",
       " Row(balance=10000.0, sex=1.0, education=2.0, marriage=1.0, age=28.0, default=1.0),\n",
       " Row(balance=10000.0, sex=1.0, education=2.0, marriage=1.0, age=29.0, default=1.0),\n",
       " Row(balance=10000.0, sex=1.0, education=2.0, marriage=1.0, age=30.0, default=2.0),\n",
       " Row(balance=10000.0, sex=1.0, education=2.0, marriage=1.0, age=31.0, default=1.0),\n",
       " Row(balance=10000.0, sex=1.0, education=2.0, marriage=1.0, age=35.0, default=1.0),\n",
       " Row(balance=10000.0, sex=1.0, education=2.0, marriage=1.0, age=36.0, default=1.0),\n",
       " Row(balance=10000.0, sex=1.0, education=2.0, marriage=1.0, age=37.0, default=2.0)]"
      ]
     },
     "execution_count": 191,
     "metadata": {},
     "output_type": "execute_result"
    }
   ],
   "source": [
    "validData.take(20)"
   ]
  },
  {
   "cell_type": "code",
   "execution_count": 192,
   "metadata": {},
   "outputs": [
    {
     "data": {
      "text/plain": [
       "[Sample: features: [JTensor: storage: [  1.00000000e+04   1.00000000e+00   1.00000000e+00   1.00000000e+00\n",
       "    4.00000000e+01], shape: [5], float], label: JTensor: storage: [ 2.], shape: [1], float,\n",
       " Sample: features: [JTensor: storage: [  1.00000000e+04   1.00000000e+00   1.00000000e+00   1.00000000e+00\n",
       "    4.80000000e+01], shape: [5], float], label: JTensor: storage: [ 1.], shape: [1], float,\n",
       " Sample: features: [JTensor: storage: [  1.00000000e+04   1.00000000e+00   1.00000000e+00   2.00000000e+00\n",
       "    2.20000000e+01], shape: [5], float], label: JTensor: storage: [ 1.], shape: [1], float]"
      ]
     },
     "execution_count": 192,
     "metadata": {},
     "output_type": "execute_result"
    }
   ],
   "source": [
    "cc_rdd_train.take(3)"
   ]
  },
  {
   "cell_type": "code",
   "execution_count": 193,
   "metadata": {},
   "outputs": [
    {
     "name": "stdout",
     "output_type": "stream",
     "text": [
      "creating: createSequential\n",
      "creating: createLinear\n",
      "creating: createReLU\n",
      "creating: createLinear\n",
      "creating: createLogSoftMax\n"
     ]
    }
   ],
   "source": [
    "# Create model\n",
    "\n",
    "def multilayer_perceptron(n_hidden_1, n_hidden_2, n_input, n_classes):\n",
    "    # Initialize a sequential container\n",
    "    model = Sequential()\n",
    "    # Hidden layer with ReLu activation\n",
    "    model.add(Linear(n_input, n_hidden_1).set_name('mlp_fc1'))\n",
    "    model.add(ReLU())\n",
    "    # Hidden layer with ReLu activation\n",
    "    #model.add(Linear(n_hidden_1, n_hidden_2).set_name('mlp_fc2'))\n",
    "    #model.add(ReLU())\n",
    "    # output layer\n",
    "    #model.add(Linear(n_hidden_2, n_classes).set_name('mlp_fc3'))\n",
    "    model.add(Linear(n_hidden_1, n_classes).set_name('mlp_fc3'))\n",
    "    model.add(LogSoftMax())\n",
    "    return model\n",
    "\n",
    "model = multilayer_perceptron(n_hidden_1, n_hidden_2, n_input, n_classes)"
   ]
  },
  {
   "cell_type": "code",
   "execution_count": 194,
   "metadata": {},
   "outputs": [
    {
     "name": "stdout",
     "output_type": "stream",
     "text": [
      "creating: createClassNLLCriterion\n",
      "creating: createAdagrad\n",
      "creating: createMaxEpoch\n",
      "creating: createOptimizer\n",
      "creating: createEveryEpoch\n",
      "creating: createTop1Accuracy\n",
      "creating: createTrainSummary\n",
      "creating: createSeveralIteration\n",
      "creating: createValidationSummary\n",
      "('saving logs to ', 'cc-default-20171115-050816')\n"
     ]
    }
   ],
   "source": [
    "# Create an Optimizer\n",
    "optimizer = Optimizer(\n",
    "    model=model,\n",
    "    training_rdd=cc_rdd_train,\n",
    "    criterion=ClassNLLCriterion(),\n",
    "    optim_method=Adagrad(learningrate=learning_rate, learningrate_decay=0.0002),\n",
    "    end_trigger=MaxEpoch(training_epochs),\n",
    "    batch_size=batch_size)\n",
    "\n",
    "# Set the validation logic\n",
    "optimizer.set_validation(\n",
    "    batch_size=batch_size,\n",
    "    val_rdd=cc_rdd_test,\n",
    "    trigger=EveryEpoch(),\n",
    "    val_method=[Top1Accuracy()]\n",
    ")\n",
    "\n",
    "app_name='cc-default-'+dt.datetime.now().strftime(\"%Y%m%d-%H%M%S\")\n",
    "train_summary = TrainSummary(log_dir='/tmp/bigdl_summaries',\n",
    "                                     app_name=app_name)\n",
    "train_summary.set_summary_trigger(\"Parameters\", SeveralIteration(50))\n",
    "val_summary = ValidationSummary(log_dir='/tmp/bigdl_summaries',\n",
    "                                        app_name=app_name)\n",
    "optimizer.set_train_summary(train_summary)\n",
    "optimizer.set_val_summary(val_summary)\n",
    "print(\"saving logs to \",app_name)"
   ]
  },
  {
   "cell_type": "code",
   "execution_count": 195,
   "metadata": {
    "scrolled": true
   },
   "outputs": [
    {
     "name": "stdout",
     "output_type": "stream",
     "text": [
      "Optimization Done.\n",
      "CPU times: user 10 ms, sys: 20 ms, total: 30 ms\n",
      "Wall time: 48.7 s\n"
     ]
    }
   ],
   "source": [
    "%%time\n",
    "# Boot training process\n",
    "trained_model = optimizer.optimize()\n",
    "print(\"Optimization Done.\")"
   ]
  },
  {
   "cell_type": "code",
   "execution_count": 196,
   "metadata": {},
   "outputs": [
    {
     "data": {
      "image/png": "[encoded data removed]",
      "text/plain": [
       "<matplotlib.figure.Figure at 0x7eff23b5f310>"
      ]
     },
     "metadata": {},
     "output_type": "display_data"
    }
   ],
   "source": [
    "\n",
    "loss = np.array(train_summary.read_scalar(\"Loss\"))\n",
    "top1 = np.array(val_summary.read_scalar(\"Top1Accuracy\"))\n",
    "\n",
    "plt.figure(figsize = (12,12))\n",
    "plt.subplot(2,1,1)\n",
    "plt.plot(loss[:,0],loss[:,1],label='loss')\n",
    "plt.xlim(0,loss.shape[0]+10)\n",
    "plt.grid(True)\n",
    "plt.title(\"loss\")\n",
    "plt.subplot(2,1,2)\n",
    "plt.plot(top1[:,0],top1[:,1],label='top1')\n",
    "plt.xlim(0,loss.shape[0])\n",
    "plt.title(\"top1 accuracy\")\n",
    "plt.grid(True)"
   ]
  },
  {
   "cell_type": "code",
   "execution_count": 197,
   "metadata": {},
   "outputs": [],
   "source": [
    "predictions = trained_model.predict(cc_rdd_test).collect()\n",
    "\n",
    "def map_predict_label(l):\n",
    "    return np.array(l).argmax()\n",
    "def map_groundtruth_label(l):\n",
    "    return l.to_ndarray()[0] - 1\n",
    "\n",
    "y_pred = np.array([ map_predict_label(s) for s in predictions])\n",
    "\n",
    "y_true = np.array([map_groundtruth_label(s.label) for s in cc_rdd_test.collect()])"
   ]
  },
  {
   "cell_type": "code",
   "execution_count": 208,
   "metadata": {},
   "outputs": [
    {
     "name": "stdout",
     "output_type": "stream",
     "text": [
      "[ 0.4251709  1.0604248]\n",
      "1.0\n"
     ]
    }
   ],
   "source": [
    "print(str(np.abs(predictions[0])))\n",
    "print(str(y_true[0]))\n",
    "map_predict_label(predictions[0])\n"
   ]
  },
  {
   "cell_type": "code",
   "execution_count": 209,
   "metadata": {},
   "outputs": [
    {
     "name": "stdout",
     "output_type": "stream",
     "text": [
      "The prediction accuracy is 22.36%\n"
     ]
    },
    {
     "data": {
      "image/png": "[encoded data removed]",
      "text/plain": [
       "<matplotlib.figure.Figure at 0x7eff27369a50>"
      ]
     },
     "metadata": {},
     "output_type": "display_data"
    }
   ],
   "source": [
    "acc = accuracy_score(y_true, y_pred)\n",
    "print(\"The prediction accuracy is %.2f%%\"%(acc*100))\n",
    "\n",
    "cm = confusion_matrix(y_true, y_pred)\n",
    "cm.shape\n",
    "df_cm = pd.DataFrame(cm)\n",
    "plt.figure(figsize = (10,8))\n",
    "sn.heatmap(df_cm, annot=True,fmt='d');"
   ]
  },
  {
   "cell_type": "code",
   "execution_count": null,
   "metadata": {},
   "outputs": [],
   "source": []
  }
 ],
 "metadata": {
  "kernelspec": {
   "display_name": "Python 2",
   "language": "python",
   "name": "python2"
  },
  "language_info": {
   "codemirror_mode": {
    "name": "ipython",
    "version": 2
   },
   "file_extension": ".py",
   "mimetype": "text/x-python",
   "name": "python",
   "nbconvert_exporter": "python",
   "pygments_lexer": "ipython2",
   "version": "2.7.14"
  }
 },
 "nbformat": 4,
 "nbformat_minor": 2
}
