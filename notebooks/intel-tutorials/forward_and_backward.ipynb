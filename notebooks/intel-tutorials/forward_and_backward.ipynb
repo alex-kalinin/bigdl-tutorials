{
 "cells": [
  {
   "cell_type": "markdown",
   "metadata": {},
   "source": [
    "# Forward and backward"
   ]
  },
  {
   "cell_type": "markdown",
   "metadata": {},
   "source": [
    "In this section, we will unveil the basic mechanism of the computational process of BigDL using a simple example. In this example, we show that how to obtain the gradients with a single forward and backward pass for updating."
   ]
  },
  {
   "cell_type": "markdown",
   "metadata": {},
   "source": [
    "We first need to import the necessary modules."
   ]
  },
  {
   "cell_type": "code",
   "execution_count": 3,
   "metadata": {},
   "outputs": [],
   "source": [
    "from bigdl.nn.layer import *\n",
    "from bigdl.nn.criterion import *\n",
    "import numpy as np"
   ]
  },
  {
   "cell_type": "markdown",
   "metadata": {},
   "source": [
    "Then we create a simple linear regression which can be formulized as *y = Wx + b*， where *W = [w1,w2]* are weight parameters and *b* is the bias."
   ]
  },
  {
   "cell_type": "code",
   "execution_count": 4,
   "metadata": {},
   "outputs": [
    {
     "name": "stdout",
     "output_type": "stream",
     "text": [
      "creating: createLinear\n",
      "{'Linear7450a06f': {'weight': array([[ 0.39334261,  0.03062038]], dtype=float32), 'bias': array([ 0.14031973], dtype=float32), 'gradBias': array([ 0.], dtype=float32), 'gradWeight': array([[ 0.,  0.]], dtype=float32)}}\n"
     ]
    }
   ],
   "source": [
    "# the input data size is 2*1, the output size is 1*1\n",
    "linear = Linear(2, 1)\n",
    "# print the randomly initialized parameters\n",
    "print(linear.parameters())"
   ]
  },
  {
   "cell_type": "code",
   "execution_count": 5,
   "metadata": {},
   "outputs": [
    {
     "name": "stdout",
     "output_type": "stream",
     "text": [
      "[ 0.47242159]\n"
     ]
    }
   ],
   "source": [
    "input = np.array([1,-2])\n",
    "# forward to output\n",
    "output = linear.forward(input)\n",
    "print(output)"
   ]
  },
  {
   "cell_type": "markdown",
   "metadata": {},
   "source": [
    "Then we backpropagate the error of the predicted output to the input."
   ]
  },
  {
   "cell_type": "code",
   "execution_count": 6,
   "metadata": {},
   "outputs": [
    {
     "name": "stdout",
     "output_type": "stream",
     "text": [
      "creating: createAbsCriterion\n",
      "loss: 0.4724216\n",
      "{'Linear7450a06f': {'weight': array([[ 0.39334261,  0.03062038]], dtype=float32), 'bias': array([ 0.14031973], dtype=float32), 'gradBias': array([ 1.], dtype=float32), 'gradWeight': array([[ 1., -2.]], dtype=float32)}}\n"
     ]
    }
   ],
   "source": [
    "# mean absolute error\n",
    "mae = AbsCriterion()\n",
    "target = np.array([0])\n",
    "\n",
    "loss = mae.forward(output, target)\n",
    "print(\"loss: \" + str(loss))\n",
    "        \n",
    "grad_output = mae.backward(output, target)\n",
    "linear.backward(input, grad_output)\n",
    "\n",
    "print(linear.parameters())"
   ]
  },
  {
   "cell_type": "markdown",
   "metadata": {},
   "source": [
    "From above we can see that the backward pass has computed the gradient of the weights in respect to the loss. Therefore we can update the weights with the gradients using algorithms such as *stochastic gradient descent*. However in practice you **should** use *optimizer.optimize()* to circumvent the details."
   ]
  },
  {
   "cell_type": "code",
   "execution_count": null,
   "metadata": {
    "collapsed": true
   },
   "outputs": [],
   "source": []
  }
 ],
 "metadata": {
  "kernelspec": {
   "display_name": "Python 3",
   "language": "python",
   "name": "python3"
  },
  "language_info": {
   "codemirror_mode": {
    "name": "ipython",
    "version": 3
   },
   "file_extension": ".py",
   "mimetype": "text/x-python",
   "name": "python",
   "nbconvert_exporter": "python",
   "pygments_lexer": "ipython3",
   "version": "3.6.2"
  }
 },
 "nbformat": 4,
 "nbformat_minor": 2
}
