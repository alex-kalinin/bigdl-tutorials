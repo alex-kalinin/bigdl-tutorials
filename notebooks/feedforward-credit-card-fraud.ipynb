{
 "cells": [
  {
   "cell_type": "markdown",
   "metadata": {},
   "source": [
    "# Feedforward Network with Credit Card Fraud\n",
    "\n",
    "Let us look at a BigDL example with Credit Card Fraud.  We will train a simple, feedforward neural network with "
   ]
  },
  {
   "cell_type": "code",
   "execution_count": 62,
   "metadata": {},
   "outputs": [],
   "source": [
    "%matplotlib inline\n",
    "import pandas as pd\n",
    "import datetime as dt\n",
    "import matplotlib.pyplot as plt\n",
    "import numpy as np\n",
    "from sklearn.metrics import confusion_matrix\n",
    "from sklearn.metrics import accuracy_score\n",
    "import seaborn as sn\n",
    "import pandas as pd\n",
    "import random as rd\n",
    "import datetime as dt\n",
    "\n",
    "\n",
    "from bigdl.dataset.transformer import *\n",
    "from bigdl.dataset.base import *\n",
    "from bigdl.nn.layer import *\n",
    "from bigdl.nn.criterion import *\n",
    "from bigdl.optim.optimizer import *\n",
    "from bigdl.util.common import *\n",
    "from utils import *\n",
    "\n",
    "from pyspark.sql.functions import col\n",
    "\n",
    "\n",
    "init_engine()"
   ]
  },
  {
   "cell_type": "code",
   "execution_count": 63,
   "metadata": {},
   "outputs": [],
   "source": [
    "learning_rate = 0.01\n",
    "training_epochs = 50\n",
    "batch_size = 1024\n",
    "display_step = 1\n",
    "\n",
    "# Network Parameters\n",
    "n_input = 30\n",
    "n_classes = 2\n",
    "n_hidden_1 = 100 # 1st layer number of features\n",
    "n_hidden_2 = 100 # 2nd layer number of features\n",
    "\n",
    "LABELS = [\"Normal\", \"Fraud\"]\n",
    "\n",
    "#[\"V\" + str(x) for x in list(range(1,10))]\n",
    "\n"
   ]
  },
  {
   "cell_type": "code",
   "execution_count": 64,
   "metadata": {},
   "outputs": [],
   "source": [
    "cc_training = spark.read.csv(\"../data/creditcardfraud/creditcard-small.csv.gz\", header=True, inferSchema=\"true\", mode=\"DROPMALFORMED\")"
   ]
  },
  {
   "cell_type": "code",
   "execution_count": 65,
   "metadata": {},
   "outputs": [],
   "source": [
    "df = pd.read_csv(\"../data/creditcardfraud/creditcard.csv\")"
   ]
  },
  {
   "cell_type": "code",
   "execution_count": 66,
   "metadata": {},
   "outputs": [
    {
     "name": "stdout",
     "output_type": "stream",
     "text": [
      "+-------+-----------------+--------------------+-------------------+------------------+-------------------+\n",
      "|summary|             Time|                  V1|                 V2|            Amount|              Class|\n",
      "+-------+-----------------+--------------------+-------------------+------------------+-------------------+\n",
      "|  count|             9061|                9061|               9061|              9061|               9061|\n",
      "|   mean|93758.12713828495|-0.25424247762411734|0.17199660579747025| 89.94237611742561| 1.0542986425339367|\n",
      "| stddev|47581.01643785861|  2.7091274040820754|   2.09513286985668|252.94831781126243|0.22661855121864016|\n",
      "|    min|               35|   -33.0171744306281|  -39.8183101230426|               0.0|                  1|\n",
      "|    max|           172741|    2.40466311881484|   22.0577289904909|          11898.09|                  2|\n",
      "+-------+-----------------+--------------------+-------------------+------------------+-------------------+\n",
      "\n"
     ]
    }
   ],
   "source": [
    "cc_training.select('Time', 'V1', 'V2', 'Amount', 'Class').describe().show()"
   ]
  },
  {
   "cell_type": "code",
   "execution_count": 67,
   "metadata": {},
   "outputs": [],
   "source": [
    "cc_training = cc_training.select([col(c).cast(\"double\") for c in cc_training.columns])\n",
    "\n"
   ]
  },
  {
   "cell_type": "code",
   "execution_count": 68,
   "metadata": {},
   "outputs": [
    {
     "name": "stdout",
     "output_type": "stream",
     "text": [
      "+--------+------------------+-------------------+-------------------+-------------------+------------------+------------------+------------------+-------------------+-------------------+-------------------+------------------+-------------------+------------------+-------------------+------------------+-------------------+--------------------+-------------------+-------------------+--------------------+--------------------+-------------------+--------------------+------------------+-------------------+-------------------+-------------------+-------------------+------+-----+\n",
      "|    Time|                V1|                 V2|                 V3|                 V4|                V5|                V6|                V7|                 V8|                 V9|                V10|               V11|                V12|               V13|                V14|               V15|                V16|                 V17|                V18|                V19|                 V20|                 V21|                V22|                 V23|               V24|                V25|                V26|                V27|                V28|Amount|Class|\n",
      "+--------+------------------+-------------------+-------------------+-------------------+------------------+------------------+------------------+-------------------+-------------------+-------------------+------------------+-------------------+------------------+-------------------+------------------+-------------------+--------------------+-------------------+-------------------+--------------------+--------------------+-------------------+--------------------+------------------+-------------------+-------------------+-------------------+-------------------+------+-----+\n",
      "|143247.0|  2.03244790510437|-0.0227211619555894|  -1.42982223609906|  0.132412643145587| 0.351458860670568|-0.541265257466297| 0.121326934856903| -0.170955546657947|  0.236003642325074|  0.152011197092054|  1.15567224072331|   1.27229336011661| 0.556026384564199|  0.564521225432166|0.0680808109100941|-0.0852505444549224|  -0.744407425065454|  0.300095615619507|-0.0154834286526086|  -0.176510439562655|   0.304589540238601|   1.00616094430647|  0.0270980107399969| 0.756043575662445|  0.257735254736072| -0.160604286534444|-0.0213775935171168|-0.0609785753575501|  0.89|  1.0|\n",
      "| 91554.0| -5.10025566317088|   3.63344238024837|  -3.84391862443125|  0.183208447320966| -1.18399737637674|   1.6021393332506| -3.00595315203476|  -8.64503780175356|   1.28545810732477|  -3.71748137540216|  3.71921153916465|  -5.03402974701745| 0.918999158233287|  -4.22036591807154| -1.05049995739584|  -1.69104526842648|   -2.37242320724166|  0.450098503348706|  0.407805060819919|   -2.80630192287329|    8.28043932580154|  -2.79714954096118|    1.09070659271567|-0.159259597476933|  0.532156369375709| -0.497125808167425|  0.943621624807946|  0.553580691756943|261.22|  2.0|\n",
      "| 29092.0|  1.32604266190761|  0.382845110055077|-0.0999046960279831|  0.449954620100916| 0.189603811868284|-0.477704999998788| 0.120910635169921| -0.185190020709795|-0.0201432266555299| -0.305185429342893|-0.829553609199305|  0.329644920310993|  1.20494060657276| -0.507407055073369|  1.07961157156888|  0.734565338354581|  -0.417047840907476|-0.0690557790664809|  0.175280181594278| 0.00510447608869461|   -0.34401961673922| -0.950040914886981|-0.00550259552269772|-0.640962069645672|  0.377262768851026|  0.154052317746289|-0.0193146028519964| 0.0224938706924714|  2.68|  1.0|\n",
      "|121394.0|  2.00490671847419|   -2.0281761577364| -0.865168149505435|  -1.51897400066714| -1.68127160457455|-0.331644711193603| -1.34687532569597| 0.0638061064778771| -0.953031794232468|    1.7220075648143|0.0601793282561051|  -1.32595895623508| -1.74876488169686|  0.103372434814187| -0.44530592852125| -0.089929754739225|   0.259611222708803|  0.815158649433469| 0.0954470317610487|  -0.308618612110237| -0.0569992214386646|-0.0477525787113439|    0.12966508423823|-0.469052637373532| -0.405432440336162| -0.176207567356629|-0.0124071384081933|-0.0413170496311318| 141.0|  1.0|\n",
      "|146379.0|  1.88811867467123| -0.943513294739467|  -1.56461233982386| -0.495500163307253|  0.29863635611298| 0.867914623253495|-0.403907172756048|  0.101206527604235| -0.451458263206679|  0.575193710109687|-0.299376465862721|  0.693066785053487|  1.19485049546309|  0.118325536264495|  1.14196535520338|  -2.71662105708695|   0.611638445684635| -0.125636804251934|  -2.10995515932626|  -0.492499833901821|   0.085368439291806|  0.862331598315996|   0.061282376902284| -0.30898699803522|  0.017614800771529|  0.036842083925963| 0.0517280548572589|-0.0425517471868993|  88.0|  1.0|\n",
      "|128298.0| -2.90264936854986|   2.18480711374716|  -2.17048639739346| -0.347636887288201|-0.928326648595767| -1.10206183649779|-0.660931189716549|   1.79792507749677| -0.336393742806217|  -2.12098926425925|-0.746510629622733|   1.38443058592477|  1.10854606890305| -0.563987902527396| -0.65905869683712|  0.486389016176805|    1.98626994073627| 0.0367945531544797|  -0.33431195414414|  -0.624942853672998| 0.00791409848479441|  -0.46847883961932|   0.135341667418813| 0.988709216640939|  0.318796971199989| -0.174561801412878|  -1.00994772095629| -0.292221899004932| 31.61|  1.0|\n",
      "| 63968.0|-0.505384949117295|  0.525523067051938|   1.52437314551807|-0.0147527799118336| 0.634011648501582| 0.477399618276798| 0.627416402191654|-0.0938427734984613|  0.270895660879427| -0.394426770890726| -1.37110297764391|-0.0362517204093202| 0.145367583201721| -0.591691856496676|-0.285114801199063| -0.613936807535285|  -0.053326501804365| -0.608836169532515|  0.344696301139309|-0.00989750714508508| -0.0678567207169015|  0.212739283893105|  -0.240959949557848|-0.709658695230453|-0.0926465568683686|  0.382244080842946| -0.171370791286309| -0.109642179434359|  10.0|  1.0|\n",
      "| 51344.0|-0.548950029372122|0.00905158877425757|   1.48792994016456| -0.817692682371075|-0.411195825894893|-0.416915579780451| 0.186330382112844|  0.162004605186706|  -1.87255984640312|  0.519760685182022|  1.47518271730801|  -1.44293832114513| -2.55336302350195|  0.805407755210222| 0.701874652295504|  0.352261903045739|    1.04834190821536|  -1.30379530337585|   1.85270822339955|   0.225088638175106| -0.0102335942711366| -0.412324966363744|  0.0350731744281837|  0.13508004080867|0.00599376955844866| -0.295406631190334| 0.0237782133506844| 0.0574956482247274| 50.29|  1.0|\n",
      "|112913.0| -2.00190204611651|   2.23485898228464|  -1.82798612409394|  -1.57207482922339| 0.879576393860953| -1.30649453322553|  1.40288921258001|-0.0414077376382541|  0.709918554629785|   1.84476684727544|  0.57904791569742|   0.53849884093564|-0.354041705051912|  0.520973749197371|-0.679128521844859| -0.498530455629383|  -0.741323382796404| 0.0596076335271623| 0.0394251028714083|   0.698993280849303|   0.019071844952501|  0.860736602827773| -0.0968167911565099|-0.443152483030881| 0.0929000217081243|   0.11047819450176|  0.824114262616189|  0.501227622240669|   7.7|  1.0|\n",
      "| 73344.0| -0.82102023803611|  0.241222149054931|   1.61109262304358|  -1.15836311753213| 0.555496022341196| -1.42886136376522| 0.713198486108273| -0.400627841127485|-0.0208031066500444| -0.522998744282913|-0.381061347605807|-0.0654315611330906|0.0660843695198534|  -0.16072057074203| 0.424130120265591|  0.354523310454294|  -0.729578964915204| -0.457499018416607| -0.602980482065946|  0.0142222858102663| -0.0189231564277925|-0.0647987660176139| -0.0784506645801264| 0.447703762552038| -0.359501956135296|  0.703117721413414| -0.333620843140561|-0.0144030226156287|  0.77|  1.0|\n",
      "| 36169.0|-0.289919083112556|   1.14451204485587|   1.00215069804629| -0.112087661928546| 0.427877128811447|-0.563329750081694| 0.719131556005018|-0.0510920334688292| -0.411121364321556| -0.521807321949816|-0.784744598977114|-0.0839847537128256|  0.68406464664241| -0.560216084452582| 0.898638112386303|  0.572846608821414|  -0.279924534844644| 0.0433846352619725|   0.17948967118609|   0.163174734517506|  -0.306926517630475| -0.786790774185426|  -0.112439381496371|-0.379999076708583|-0.0494491741253512|  0.115406475975779|  0.247946674118513| 0.0918508661724709|  1.78|  1.0|\n",
      "| 31446.0|-0.488513661854519|  0.886831660188545|   1.64224901860339|-0.0812340758851239|-0.216121635754075|-0.724486054676107| 0.524412925951965|  0.137027930121679| -0.484722612205202| -0.109206457594618|  1.27420507941395|  0.059234819291326| -1.30575239437708|  0.594400791233101| 0.267078828124187|  0.392715638566694|  -0.500053137311488|  0.227578386032636|   0.23389729301652|  0.0353201975361872|  -0.173441222898155| -0.545566137830327|  0.0167918893524738| 0.482541956124554| -0.290473250823624| 0.0450840588689287|  0.251987706595492|  0.110860450261077|  6.27|  1.0|\n",
      "| 88040.0|-0.340736202588015|  0.474640345866979|   1.28132750101087|   1.05101894746738| 0.602744957813203| 0.638594004833062| 0.257759249209275|  0.324047457287845|-0.0770730093126103| -0.302394185982865| 0.328955971965125|   1.02576898265383|-0.207746443754154|-0.0872035531277435| -1.63281994871153| -0.743579071143002|  0.0668502816992193| -0.145370710835899|   1.44056988083338|  0.0495285924367002|  -0.330317358391842| -0.822397577192936|   0.245987182656171| 0.633491475554554| -0.827735899125666|  -1.05933736002928|  0.248350467629832|   0.21595040899753|  19.9|  1.0|\n",
      "|  6743.0|-0.860941960276025|   1.57992905694192|   1.18342087925875|  0.914912587404703|  0.40740773212428|-0.252676197881472| 0.715645647919229| -0.212383458417221|  0.875982338386893| 0.0565665999105891| 0.921707985932688|  -1.83809731452275|  2.95566804646792|   1.36871466300916| 0.426356925710849| -0.756776443372876|   0.720975857812392| -0.268120341006812| -0.192764778240101|    0.21604779930097|-0.00368366202277141|  0.499030214331743|  -0.128377345860582|0.0609311721831713| -0.218902026863101|  -0.35163798156082|  0.248759494739649|  0.305888661776808| 16.89|  1.0|\n",
      "| 59008.0|  0.73736291300118|  -1.48767076371494|  0.510779386949551|  -1.02299559745808| -1.71888292205239|-0.845099821534805|-0.378948129719057| -0.063452469553422|   2.08615860828923|  -1.25325031878218|-0.602012939306847|  0.116670246633045| -1.06403306755408| 0.0611693400963493|  1.49488638535565| -0.329644760301205|-0.00468884550774933|  0.395822760266284|  0.596801350926455|   0.406358871408364|   0.267114012152531|  0.354559481204904|  -0.334704983970217| 0.449760824108818|  0.345735428669921| 0.0886551794200376|-0.0143456029640924| 0.0690118209536718| 280.0|  1.0|\n",
      "|123698.0|  2.23845380410567| -0.578299708225072|  -1.30782106593603| -0.896182034053998|-0.486117787685088| -1.38071234568196| -0.22667990880436| -0.499623267641678| -0.711233096572337|  0.846848835443456|-0.471929377287227|0.00496244831412199|   1.4232406147841|  -0.21668200077064| 0.196238926879299|  0.840655328917697|  0.0572579873458332|   -1.4338077078377|   0.43922416784225|  0.0371952578190124|   0.440369343114124|   1.36429884638163| -0.0319724098790561|0.0704109750326585|   0.25477812337523| 0.0667600061296834|-0.0303990168928855|-0.0642758521980148|  10.0|  1.0|\n",
      "|136173.0|  2.00739894679241| -0.659505311085278|-0.0447681347316271|  0.133299400147266|-0.752854457080037| 0.351077035299948| -1.14132648044029|  0.167785543855781|   1.59358218133882|-0.0490803020113699| -1.74900428214153|  0.211509708314673| 0.852745652172615| -0.619230859868025|  1.00561601554677|   1.04169953110677|   -1.06732657980666|  0.537041416976318| -0.158776336951197|  -0.100007825089541|   0.153904082820393|  0.649062018194852|   0.114899198814244| -1.00129466136124|  -0.43430159880887|  0.692067998189437|0.00685247816835541|-0.0433905596966736|  16.9|  1.0|\n",
      "| 19762.0| -14.1791651073631|   7.42136996239257|   -21.405835744128|    11.927511869244| -7.97428068736155| -2.20271027666529| -15.4716122801735| -0.356594909586509|  -6.38012489838839|  -13.3482776536659|  10.1875873241664|  -14.5639797552132|  0.59375935763569|  -14.4915983463022|-0.281392503951236|   -8.2641288443605|   -12.4398049728466|  -4.83707902601307|  0.753149847889189|    1.00276434172175|   -2.36683606243662|   1.13095519799655|   0.991153238179024| -1.03313210707298| -0.327179344936207|  0.634692903522304|   2.17190494464567|  -1.39528768393339|   1.0|  2.0|\n",
      "| 87925.0|  1.86916734684908|   0.62544638379936|  -1.23762688716496|   3.64688695500915|   1.0284023515115| 0.187711618452926| 0.580354624819214| -0.115926742651784|  -1.55378548309384|   1.59420931817775| 0.561495557783164|  0.921749096429674| 0.626281641396269|   0.41988056523606| -2.12903191214072|  0.485878954208047|  -0.816286038430463| -0.385758607006591|  -1.00360671944576|  -0.166184705908237|   0.053966205078026|  0.157917118689961|  0.0891552985693336| 0.768286873437794|  0.225259170833126|-0.0414680718389834|-0.0701853559680508|-0.0562257406954361| 33.29|  1.0|\n",
      "|133866.0|-0.995345653091283|  -1.00939142821284|   1.49205676277963| 0.0901355692300431| 0.365536013296168|-0.924396895801783|-0.496329793710321|  0.210156371074945|  0.906875911874831| -0.697178791947426| -1.32944935279622| -0.355860613811106|-0.772574817423069| -0.036726007487665| 0.797224479002986|  0.218636558205327|  -0.541126250187033|  0.643297441207713| 0.0787706124153411|   0.317854791021345|   0.309568045685122|  0.525140601159431|   0.457780992892232|-0.072514454350259|  -1.02496647012791| -0.481970831501254|  0.209612752358084|  0.269751329281676| 89.79|  1.0|\n",
      "+--------+------------------+-------------------+-------------------+-------------------+------------------+------------------+------------------+-------------------+-------------------+-------------------+------------------+-------------------+------------------+-------------------+------------------+-------------------+--------------------+-------------------+-------------------+--------------------+--------------------+-------------------+--------------------+------------------+-------------------+-------------------+-------------------+-------------------+------+-----+\n",
      "only showing top 20 rows\n",
      "\n"
     ]
    }
   ],
   "source": [
    "cc_training.show()"
   ]
  },
  {
   "cell_type": "code",
   "execution_count": 69,
   "metadata": {},
   "outputs": [
    {
     "data": {
      "image/png": "[encoded data removed]",
      "text/plain": [
       "<matplotlib.figure.Figure at 0x7fe24c492a50>"
      ]
     },
     "metadata": {},
     "output_type": "display_data"
    }
   ],
   "source": [
    "#count_classes = pd.value_counts(df['Class'], sort = True)\n",
    "count_classes = pd.value_counts(cc_training.select('Class').toPandas()['Class'], sort = True)\n",
    "count_classes.plot(kind = 'bar', rot=0)\n",
    "plt.title(\"Transaction class distribution\")\n",
    "plt.xticks(range(2), LABELS)\n",
    "plt.xlabel(\"Class\")\n",
    "plt.ylabel(\"Frequency\");"
   ]
  },
  {
   "cell_type": "code",
   "execution_count": 70,
   "metadata": {},
   "outputs": [],
   "source": [
    "# get the time to split the data.\n",
    "splitTime = cc_training.stat.approxQuantile(\"Time\", [0.7], 0.001)[0]\n",
    "\n",
    "trainingData =cc_training.filter(\"Time < \" + str(splitTime))\n",
    "validData = cc_training.filter(\"Time >= \" + str(splitTime))"
   ]
  },
  {
   "cell_type": "code",
   "execution_count": 71,
   "metadata": {},
   "outputs": [
    {
     "name": "stdout",
     "output_type": "stream",
     "text": [
      "Training Count:6335\n",
      "Test Count:2726\n"
     ]
    }
   ],
   "source": [
    "#convert ndarray data into RDD[Sample]\n",
    "\n",
    "# time,V1,V2,V3,V4,V5,V6,V7,V8,V9,V10,V11,V12,V13,V14,V15,V16,V17,V18,V19,V20,V21,V22,V23,V24,V25,V26,V27,V28,amount,prediction\n",
    "def array2rdd(ds):\n",
    "    #build Sample from ndarrays\n",
    "    def build_sample(time,V1,V2,V3,V4,V5,V6,V7,V8,V9,V10,V11,V12,V13,V14,V15,V16,V17,V18,V19,V20,V21,V22,V23,V24,V25,V26,V27,V28,amount,prediction):\n",
    "        feature = np.array([time,V1,V2,V3,V4,V5,V6,V7,V8,V9,V10,V11,V12,V13,V14,V15,V16,V17,V18,V19,V20,V21,V22,V23,V24,V25,V26,V27,V28,amount]).flatten()\n",
    "        label = np.array(prediction)\n",
    "        return Sample.from_ndarray(feature, label)\n",
    "    rdd = ds.map(lambda (time,V1,V2,V3,V4,V5,V6,V7,V8,V9,V10,V11,V12,V13,V14,V15,V16,V17,V18,V19,V20,V21,V22,V23,V24,V25,V26,V27,V28,amount,prediction): build_sample(time,V1,V2,V3,V4,V5,V6,V7,V8,V9,V10,V11,V12,V13,V14,V15,V16,V17,V18,V19,V20,V21,V22,V23,V24,V25,V26,V27,V28,amount,prediction))\n",
    "    return rdd\n",
    "\n",
    "cc_rdd_train = array2rdd(trainingData.rdd.map(list))\n",
    "cc_rdd_train.cache()\n",
    "print(\"Training Count:\" + str(cc_rdd_train.count()))\n",
    "\n",
    "\n",
    "\n",
    "cc_rdd_test = array2rdd(validData.rdd.map(list))\n",
    "cc_rdd_test.cache()\n",
    "print(\"Test Count:\" + str(cc_rdd_test.count()))\n"
   ]
  },
  {
   "cell_type": "code",
   "execution_count": 72,
   "metadata": {},
   "outputs": [
    {
     "name": "stdout",
     "output_type": "stream",
     "text": [
      "creating: createSequential\n",
      "creating: createLinear\n",
      "creating: createReLU\n",
      "creating: createLinear\n",
      "creating: createReLU\n",
      "creating: createLinear\n",
      "creating: createLogSoftMax\n"
     ]
    }
   ],
   "source": [
    "# Create model\n",
    "\n",
    "def multilayer_perceptron(n_hidden_1, n_hidden_2, n_input, n_classes):\n",
    "    # Initialize a sequential container\n",
    "    model = Sequential()\n",
    "    # Hidden layer with ReLu activation\n",
    "    #model.add(Reshape([28*28]))\n",
    "    model.add(Linear(n_input, n_hidden_1).set_name('mlp_fc1'))\n",
    "    model.add(ReLU())\n",
    "    # Hidden layer with ReLu activation\n",
    "    model.add(Linear(n_hidden_1, n_hidden_2).set_name('mlp_fc2'))\n",
    "    model.add(ReLU())\n",
    "    # output layer\n",
    "    model.add(Linear(n_hidden_2, n_classes).set_name('mlp_fc3'))\n",
    "    model.add(LogSoftMax())\n",
    "    return model\n",
    "\n",
    "model = multilayer_perceptron(n_hidden_1, n_hidden_2, n_input, n_classes)"
   ]
  },
  {
   "cell_type": "code",
   "execution_count": 73,
   "metadata": {
    "scrolled": true
   },
   "outputs": [
    {
     "name": "stdout",
     "output_type": "stream",
     "text": [
      "creating: createClassNLLCriterion\n",
      "creating: createDefault\n",
      "creating: createSGD\n",
      "creating: createMaxEpoch\n",
      "creating: createOptimizer\n",
      "creating: createEveryEpoch\n",
      "creating: createTop1Accuracy\n",
      "creating: createTrainSummary\n",
      "creating: createSeveralIteration\n",
      "creating: createValidationSummary\n",
      "('saving logs to ', 'multilayer_perceptron-20171111-194019')\n"
     ]
    }
   ],
   "source": [
    "# Create an Optimizer\n",
    "optimizer = Optimizer(\n",
    "    model=model,\n",
    "    training_rdd=cc_rdd_train,\n",
    "    criterion=ClassNLLCriterion(),\n",
    "    optim_method=SGD(learningrate=learning_rate),\n",
    "    end_trigger=MaxEpoch(training_epochs),\n",
    "    batch_size=batch_size)\n",
    "\n",
    "# Set the validation logic\n",
    "optimizer.set_validation(\n",
    "    batch_size=batch_size,\n",
    "    val_rdd=cc_rdd_test,\n",
    "    trigger=EveryEpoch(),\n",
    "    val_method=[Top1Accuracy()]\n",
    ")\n",
    "\n",
    "app_name='multilayer_perceptron-'+dt.datetime.now().strftime(\"%Y%m%d-%H%M%S\")\n",
    "train_summary = TrainSummary(log_dir='/tmp/bigdl_summaries',\n",
    "                                     app_name=app_name)\n",
    "train_summary.set_summary_trigger(\"Parameters\", SeveralIteration(50))\n",
    "val_summary = ValidationSummary(log_dir='/tmp/bigdl_summaries',\n",
    "                                        app_name=app_name)\n",
    "optimizer.set_train_summary(train_summary)\n",
    "optimizer.set_val_summary(val_summary)\n",
    "print(\"saving logs to \",app_name)"
   ]
  },
  {
   "cell_type": "code",
   "execution_count": 74,
   "metadata": {},
   "outputs": [
    {
     "name": "stdout",
     "output_type": "stream",
     "text": [
      "Optimization Done.\n",
      "CPU times: user 30 ms, sys: 30 ms, total: 60 ms\n",
      "Wall time: 24.2 s\n"
     ]
    }
   ],
   "source": [
    "%%time\n",
    "# Boot training process\n",
    "trained_model = optimizer.optimize()\n",
    "print(\"Optimization Done.\")"
   ]
  },
  {
   "cell_type": "code",
   "execution_count": 75,
   "metadata": {
    "scrolled": true
   },
   "outputs": [
    {
     "data": {
      "image/png": "[encoded data removed]",
      "text/plain": [
       "<matplotlib.figure.Figure at 0x7fe2498ad210>"
      ]
     },
     "metadata": {},
     "output_type": "display_data"
    }
   ],
   "source": [
    "\n",
    "loss = np.array(train_summary.read_scalar(\"Loss\"))\n",
    "top1 = np.array(val_summary.read_scalar(\"Top1Accuracy\"))\n",
    "\n",
    "plt.figure(figsize = (12,12))\n",
    "plt.subplot(2,1,1)\n",
    "plt.plot(loss[:,0],loss[:,1],label='loss')\n",
    "plt.xlim(0,loss.shape[0]+10)\n",
    "plt.grid(True)\n",
    "plt.title(\"loss\")\n",
    "plt.subplot(2,1,2)\n",
    "plt.plot(top1[:,0],top1[:,1],label='top1')\n",
    "plt.xlim(0,loss.shape[0])\n",
    "plt.title(\"top1 accuracy\")\n",
    "plt.grid(True)"
   ]
  },
  {
   "cell_type": "code",
   "execution_count": 76,
   "metadata": {},
   "outputs": [],
   "source": [
    "predictions = trained_model.predict(cc_rdd_test).collect()\n",
    "\n",
    "def map_predict_label(l):\n",
    "    return np.array(l).argmax()\n",
    "def map_groundtruth_label(l):\n",
    "    return l.to_ndarray()[0] - 1\n",
    "\n",
    "y_pred = np.array([ map_predict_label(s) for s in predictions])\n",
    "\n",
    "y_true = np.array([map_groundtruth_label(s.label) for s in cc_rdd_test.collect()])"
   ]
  },
  {
   "cell_type": "code",
   "execution_count": 77,
   "metadata": {},
   "outputs": [
    {
     "name": "stdout",
     "output_type": "stream",
     "text": [
      "The prediction accuracy is 95.96%\n"
     ]
    },
    {
     "data": {
      "image/png": "[encoded data removed]",
      "text/plain": [
       "<matplotlib.figure.Figure at 0x7fe28e622590>"
      ]
     },
     "metadata": {},
     "output_type": "display_data"
    }
   ],
   "source": [
    "acc = accuracy_score(y_true, y_pred)\n",
    "print(\"The prediction accuracy is %.2f%%\"%(acc*100))\n",
    "\n",
    "cm = confusion_matrix(y_true, y_pred)\n",
    "cm.shape\n",
    "df_cm = pd.DataFrame(cm)\n",
    "plt.figure(figsize = (10,8))\n",
    "sn.heatmap(df_cm, annot=True,fmt='d');"
   ]
  }
 ],
 "metadata": {
  "kernelspec": {
   "display_name": "Python 2",
   "language": "python",
   "name": "python2"
  },
  "language_info": {
   "codemirror_mode": {
    "name": "ipython",
    "version": 2
   },
   "file_extension": ".py",
   "mimetype": "text/x-python",
   "name": "python",
   "nbconvert_exporter": "python",
   "pygments_lexer": "ipython2",
   "version": "2.7.14"
  }
 },
 "nbformat": 4,
 "nbformat_minor": 2
}
